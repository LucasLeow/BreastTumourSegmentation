{
 "cells": [
  {
   "cell_type": "code",
   "execution_count": 1,
   "id": "3c879659",
   "metadata": {},
   "outputs": [],
   "source": [
    "import re\n",
    "import nrrd\n",
    "import os, glob\n",
    "import numpy as np\n",
    "import tensorflow as tf\n",
    "import matplotlib.pyplot as plt\n",
    "from patchify import patchify, unpatchify\n",
    "from ipywidgets import interact, interactive, IntSlider, ToggleButtons\n",
    "\n",
    "import loss\n",
    "import Helper\n",
    "import allMetrics"
   ]
  },
  {
   "cell_type": "code",
   "execution_count": null,
   "id": "7bb7da45",
   "metadata": {},
   "outputs": [],
   "source": [
    "physical_devices = tf.config.list_physical_devices('GPU')"
   ]
  },
  {
   "cell_type": "code",
   "execution_count": null,
   "id": "91d3807d",
   "metadata": {},
   "outputs": [],
   "source": [
    "physical_devices"
   ]
  },
  {
   "cell_type": "code",
   "execution_count": null,
   "id": "984d1e72",
   "metadata": {},
   "outputs": [],
   "source": [
    "try:\n",
    "  for device in physical_devices:\n",
    "    tf.config.experimental.set_memory_growth(device, True)\n",
    "except:\n",
    "  # Invalid device or cannot modify virtual devices once initialized.\n",
    "  pass\n"
   ]
  },
  {
   "cell_type": "code",
   "execution_count": 2,
   "id": "5e64e90c",
   "metadata": {},
   "outputs": [],
   "source": [
    "os.environ[\"CUDA_VISIBLE_DEVICES\"]=\"0\""
   ]
  },
  {
   "cell_type": "code",
   "execution_count": 8,
   "id": "078c6d21",
   "metadata": {},
   "outputs": [],
   "source": [
    "access_token = '5307815831:AAEKVzHQFAVWMwXseU9L1yKKtsBq4YPZM8Y'\n",
    "chat_id = '503932462'\n",
    "\n",
    "# data_dir = '/home/tester/jianhoong/jh_fyp_work/ct_scans_data/raw_data/' # ntu\n",
    "data_dir = '/media/dro/JHSeagate/FYP/jh_fyp_work/ct_scans_data/raw_data/' # dgx\n",
    "# data_dir = 'E:/FYP/jh_fyp_work/ct_scans_data/raw_data/'  # Home pc\n",
    "\n",
    "z_train = os.path.join(data_dir, 'train_data')\n",
    "z_train_image = os.path.join(z_train, 'training_images')\n",
    "z_train_mask = os.path.join(z_train, 'training_masks')\n",
    "\n",
    "z_valid = os.path.join(data_dir, 'valid_data')\n",
    "z_valid_image = os.path.join(z_valid, 'valid_images')\n",
    "z_valid_mask = os.path.join(z_valid, 'valid_masks')\n",
    "\n",
    "z_test = os.path.join(data_dir, 'test_data')\n",
    "z_test_image = os.path.join(z_test, 'testing_images')\n",
    "z_test_mask = os.path.join(z_test, 'testing_masks')"
   ]
  },
  {
   "cell_type": "code",
   "execution_count": 9,
   "id": "58facb78",
   "metadata": {},
   "outputs": [],
   "source": [
    "def sorted_alnum(l):\n",
    "    def convert(text): return int(text) if text.isdigit() else text\n",
    "    def alphanum_key(key): return [convert(c)\n",
    "                                   for c in re.split('([0-9]+)', key)]\n",
    "    return sorted(l, key=alphanum_key)\n"
   ]
  },
  {
   "cell_type": "code",
   "execution_count": 15,
   "id": "82dd5070",
   "metadata": {},
   "outputs": [],
   "source": [
    "# train_data_with_96 = [15, 16, 20, 21, 23, 33, 37, 52, 64, 69, 72, 76, 77, 83, 92, 94, 95,\n",
    "#                       97, 103, 116, 123, 129, 157, 159, 162, 163, 170, 171, 180, 191, 192, 198, 200, 207, 209]\n",
    "# valid_data_with_96 = [213, 219, 221, 227, 231,\n",
    "#                       238, 240, 243, 249, 250, 255, 256, 257, 270]\n",
    "# test_data_with_96 = [271, 272, 274, 277, 283,\n",
    "#                      286, 287, 293, 296, 300, 303, 305, 306, 314]\n",
    "\n",
    "train_data_with_96 = [17, 18, 19, 22, 24, 25, 26, 27, 28]\n",
    "valid_data_with_96 = [213, 219, 221, 227, 231,\n",
    "                      238, 240, 243, 249, 250, 255, 256, 257, 270]\n",
    "test_data_with_96 = [271, 272, 274, 277, 283,\n",
    "                     286, 287, 293, 296, 300, 303, 305, 306, 314]\n",
    "\n",
    "train_path = sorted_alnum([os.path.join(z_train_image, file) for file in os.listdir(\n",
    "    z_train_image) if int(re.findall(r'\\d+', file)[0]) in train_data_with_96])\n",
    "train_mask_path = sorted_alnum([os.path.join(z_train_mask, file) for file in os.listdir(\n",
    "    z_train_mask) if int(re.findall(r'\\d+', file)[0]) in train_data_with_96])\n",
    "\n",
    "valid_path = sorted_alnum([os.path.join(z_valid_image, file) for file in os.listdir(\n",
    "    z_valid_image) if int(re.findall(r'\\d+', file)[0]) in valid_data_with_96])\n",
    "valid_mask_path = sorted_alnum([os.path.join(z_valid_mask, file) for file in os.listdir(\n",
    "    z_valid_mask) if int(re.findall(r'\\d+', file)[0]) in valid_data_with_96])\n",
    "\n",
    "test_path = sorted_alnum([os.path.join(z_test_image, file) for file in os.listdir(\n",
    "    z_test_image) if int(re.findall(r'\\d+', file)[0]) in test_data_with_96])\n",
    "test_mask_path = sorted_alnum([os.path.join(z_test_mask, file) for file in os.listdir(\n",
    "    z_test_mask) if int(re.findall(r'\\d+', file)[0]) in test_data_with_96])"
   ]
  },
  {
   "cell_type": "code",
   "execution_count": 13,
   "id": "c65c93fa",
   "metadata": {},
   "outputs": [
    {
     "name": "stderr",
     "output_type": "stream",
     "text": [
      "2023-05-22 10:40:03.428576: I tensorflow/core/platform/cpu_feature_guard.cc:151] This TensorFlow binary is optimized with oneAPI Deep Neural Network Library (oneDNN) to use the following CPU instructions in performance-critical operations:  AVX2 FMA\n",
      "To enable them in other operations, rebuild TensorFlow with the appropriate compiler flags.\n",
      "2023-05-22 10:40:03.901982: I tensorflow/core/common_runtime/gpu/gpu_device.cc:1525] Created device /job:localhost/replica:0/task:0/device:GPU:0 with 38414 MB memory:  -> device: 0, name: A100-SXM4-40GB, pci bus id: 0000:01:00.0, compute capability: 8.0\n"
     ]
    }
   ],
   "source": [
    "# /media/dro/JHSeagate/FYP/ # dgx\n",
    "# /home/tester/jianhoong/ # ntu\n",
    "# E:/FYP/ # home\n",
    "\n",
    "model_checkpoint_path = '/media/dro/JHSeagate/FYP/jh_fyp_work/3D_UNet/Final/SavedModels/Model8.hdf5'\n",
    "\n",
    "\n",
    "model = tf.keras.models.load_model(model_checkpoint_path, custom_objects = {\n",
    "                                                                                   'dice_coef':allMetrics.dice_coef,\n",
    "                                                                                   'tversky_crossentropy':loss.tversky_crossentropy})"
   ]
  },
  {
   "cell_type": "code",
   "execution_count": 17,
   "id": "7cdbe3e5",
   "metadata": {},
   "outputs": [
    {
     "data": {
      "text/plain": [
       "'/media/dro/JHSeagate/FYP/jh_fyp_work/ct_scans_data/raw_data/train_data/training_images/P18_image.nrrd'"
      ]
     },
     "execution_count": 17,
     "metadata": {},
     "output_type": "execute_result"
    }
   ],
   "source": [
    "train_path[1]"
   ]
  },
  {
   "cell_type": "code",
   "execution_count": 20,
   "id": "8a3df856",
   "metadata": {},
   "outputs": [
    {
     "data": {
      "application/vnd.jupyter.widget-view+json": {
       "model_id": "d0ba38be74c2423d919ef44700fcf0b3",
       "version_major": 2,
       "version_minor": 0
      },
      "text/plain": [
       "interactive(children=(IntSlider(value=48, description='layer', max=96), Dropdown(description='view', options=(…"
      ]
     },
     "metadata": {},
     "output_type": "display_data"
    }
   ],
   "source": [
    "input_shape = (64,64,96)\n",
    "num_class = 1\n",
    "desired_step = 32\n",
    "\n",
    "test_patient_img = Helper.process_scan(train_path[4])\n",
    "test_patient_msk = Helper.read_nrrd_file(train_mask_path[4])\n",
    "\n",
    "test_patch = patchify(test_patient_img, input_shape, step = desired_step) # Yield 15 x 15 x 3 of size 64 x 64 x 32 cubes\n",
    "test_mask_patch = patchify(test_patient_msk, input_shape, step = desired_step)\n",
    "\n",
    "test_patient_cubes = np.reshape(test_patch, (-1, test_patch.shape[3], test_patch.shape[4], test_patch.shape[5])) # Collapse 15 x 15 x 3 into 675 cubes x 64 x 64 x 32\n",
    "test_patient_mask_cubes = np.reshape(test_mask_patch, (-1, test_mask_patch.shape[3], test_mask_patch.shape[4], test_mask_patch.shape[5])) # 675 x 64 x 64 x 32\n",
    "\n",
    "test_patient_input = np.expand_dims(test_patient_cubes, axis=4)\n",
    "test_patient_mask_input = np.expand_dims(test_patient_mask_cubes, axis=4)\n",
    "\n",
    "test_patient_pred = model.predict(test_patient_input)\n",
    "\n",
    "test_patient_pred_reshaped = np.reshape(test_patient_pred, \n",
    "                                        (test_patch.shape[0], test_patch.shape[1], test_patch.shape[2],\n",
    "                                         test_patch.shape[3], test_patch.shape[4], test_patch.shape[5]))\n",
    "\n",
    "reconstruct_pred = unpatchify(test_patient_pred_reshaped, test_patient_img.shape)\n",
    "# reconstruct_pred[reconstruct_pred < 45] = 0\n",
    "# reconstruct_pred[reconstruct_pred > 50] = 255\n",
    "\n",
    "\n",
    "\n",
    "@interact\n",
    "def explore_prediction(layer = (0,96), view = [\"axial\"]):\n",
    "    if view == 'axial':\n",
    "        img_array_view = test_patient_img[:, :, layer]\n",
    "        msk_array_view = test_patient_msk[:, :, layer]\n",
    "        pred_array_view = reconstruct_pred[:, :, layer]\n",
    "# , cmap='gray'\n",
    "    plt.figure(figsize=(18, 6))\n",
    "    plt.subplot(1, 3, 1)\n",
    "    plt.imshow(img_array_view, cmap = \"gray\", aspect = \"auto\")\n",
    "    plt.title('Img', fontsize=10)\n",
    "    plt.subplot(1, 3, 2)\n",
    "    plt.imshow(msk_array_view, cmap = \"gray\",aspect = \"auto\")\n",
    "    plt.title('Mask', fontsize=10)\n",
    "    plt.subplot(1, 3, 3)\n",
    "    plt.imshow(pred_array_view, cmap = \"gray\",aspect = \"auto\")\n",
    "    plt.title('Prediction', fontsize=10)\n",
    "    plt.axis('off')\n",
    "    plt.show()"
   ]
  },
  {
   "cell_type": "code",
   "execution_count": 21,
   "id": "4789f3ec",
   "metadata": {
    "scrolled": false
   },
   "outputs": [
    {
     "data": {
      "application/vnd.jupyter.widget-view+json": {
       "model_id": "1b8b7d1421214be2b4c77b8c189844bf",
       "version_major": 2,
       "version_minor": 0
      },
      "text/plain": [
       "interactive(children=(IntSlider(value=255, description='layer', max=511), Dropdown(description='view', options…"
      ]
     },
     "metadata": {},
     "output_type": "display_data"
    },
    {
     "data": {
      "application/vnd.jupyter.widget-view+json": {
       "model_id": "ec22370504f14097b009e9b81b62b6c8",
       "version_major": 2,
       "version_minor": 0
      },
      "text/plain": [
       "interactive(children=(IntSlider(value=255, description='layer', max=511), Dropdown(description='view', options…"
      ]
     },
     "metadata": {},
     "output_type": "display_data"
    }
   ],
   "source": [
    "@interact\n",
    "def explore_prediction(layer = (0,511), view = [\"coronal\"]):\n",
    "    if view == 'coronal':\n",
    "        img_array_view = test_patient_img[:, layer, :]\n",
    "        msk_array_view = test_patient_msk[:, layer, :]\n",
    "        pred_array_view = reconstruct_pred[:, layer, :]\n",
    "# , cmap='gray'\n",
    "    plt.figure(figsize=(18, 6))\n",
    "    plt.subplot(1, 3, 1)\n",
    "    plt.imshow(img_array_view, cmap = \"gray\", aspect = \"auto\")\n",
    "    plt.title('Img', fontsize=10)\n",
    "    plt.subplot(1, 3, 2)\n",
    "    plt.imshow(msk_array_view, cmap = \"gray\",aspect = \"auto\")\n",
    "    plt.title('Mask', fontsize=10)\n",
    "    plt.subplot(1, 3, 3)\n",
    "    plt.imshow(pred_array_view, cmap = \"gray\",aspect = \"auto\")\n",
    "    plt.title('Prediction', fontsize=10)\n",
    "    plt.axis('off')\n",
    "    plt.show()\n",
    "    \n",
    "@interact\n",
    "def explore_prediction(layer = (0,511), view = [\"sagittal\"]):\n",
    "    if view == 'sagittal':\n",
    "        img_array_view = test_patient_img[layer, :, :]\n",
    "        msk_array_view = test_patient_msk[layer, :, :]\n",
    "        pred_array_view = reconstruct_pred[layer, : , :]\n",
    "# , cmap='gray'\n",
    "    plt.figure(figsize=(18, 6))\n",
    "    plt.subplot(1, 3, 1)\n",
    "    plt.imshow(img_array_view, cmap = \"gray\", aspect = \"auto\")\n",
    "    plt.title('Img', fontsize=10)\n",
    "    plt.subplot(1, 3, 2)\n",
    "    plt.imshow(msk_array_view, cmap = \"gray\",aspect = \"auto\")\n",
    "    plt.title('Mask', fontsize=10)\n",
    "    plt.subplot(1, 3, 3)\n",
    "    plt.imshow(pred_array_view, cmap = \"gray\",aspect = \"auto\")\n",
    "    plt.title('Prediction', fontsize=10)\n",
    "    plt.axis('off')\n",
    "    plt.show()"
   ]
  },
  {
   "cell_type": "code",
   "execution_count": null,
   "id": "f727aad6",
   "metadata": {},
   "outputs": [],
   "source": []
  },
  {
   "cell_type": "code",
   "execution_count": null,
   "id": "60b8dc3d",
   "metadata": {},
   "outputs": [],
   "source": []
  },
  {
   "cell_type": "code",
   "execution_count": 22,
   "id": "18d4a44c",
   "metadata": {},
   "outputs": [],
   "source": [
    "headerInfo = nrrd.read_header(train_path[4])"
   ]
  },
  {
   "cell_type": "code",
   "execution_count": 23,
   "id": "364036b7",
   "metadata": {},
   "outputs": [],
   "source": [
    "\n",
    "pred_volume_file_location = f\"/media/dro/JHSeagate/FYP/jh_fyp_work/ct_scans_data/prediction_data/Model8_P24.nrrd\"\n",
    "nrrd.write(pred_volume_file_location, reconstruct_pred, headerInfo)"
   ]
  },
  {
   "cell_type": "code",
   "execution_count": null,
   "id": "f2bcbb8b",
   "metadata": {},
   "outputs": [],
   "source": []
  },
  {
   "cell_type": "code",
   "execution_count": null,
   "id": "13427e89",
   "metadata": {},
   "outputs": [],
   "source": []
  },
  {
   "cell_type": "code",
   "execution_count": null,
   "id": "4aefbe0c",
   "metadata": {},
   "outputs": [],
   "source": []
  },
  {
   "cell_type": "code",
   "execution_count": null,
   "id": "62afd56c",
   "metadata": {},
   "outputs": [],
   "source": []
  },
  {
   "cell_type": "code",
   "execution_count": null,
   "id": "c56b3f8a",
   "metadata": {},
   "outputs": [],
   "source": []
  },
  {
   "cell_type": "code",
   "execution_count": null,
   "id": "d3f0c673",
   "metadata": {},
   "outputs": [],
   "source": [
    "def generate_reconstruct_pred(patient_path):\n",
    "    \n",
    "    headerInfo = nrrd.read_header(patient_path)\n",
    "    \n",
    "    patient_idx = int(re.findall(r'\\d+', patient_path[-14:-11])[0])\n",
    "    pred_volume_file_location = f\"/media/dro/JHSeagate/FYP/jh_fyp_work/ct_scans_data/prediction_data/Model_9(DGX)_Predictions/P{patient_idx}_pred_Model9.nrrd\"\n",
    "\n",
    "    \n",
    "    input_shape = (64,64,32)\n",
    "    num_class = 1\n",
    "    desired_step = 32\n",
    "    \n",
    "    test_patient_img = Helper.process_scan(patient_path)\n",
    "    test_patient_msk = Helper.read_nrrd_file(patient_path)\n",
    "\n",
    "    test_patch = patchify(test_patient_img, input_shape, step = desired_step) # Yield 15 x 15 x 3 of size 64 x 64 x 32 cubes\n",
    "    test_mask_patch = patchify(test_patient_msk, input_shape, step = desired_step)\n",
    "\n",
    "    test_patient_cubes = np.reshape(test_patch, (-1, test_patch.shape[3], test_patch.shape[4], test_patch.shape[5])) # Collapse 15 x 15 x 3 into 675 cubes x 64 x 64 x 32\n",
    "    test_patient_mask_cubes = np.reshape(test_mask_patch, (-1, test_mask_patch.shape[3], test_mask_patch.shape[4], test_mask_patch.shape[5])) # 675 x 64 x 64 x 32\n",
    "\n",
    "    test_patient_input = np.expand_dims(test_patient_cubes, axis=4)\n",
    "    test_patient_mask_input = np.expand_dims(test_patient_mask_cubes, axis=4)\n",
    "\n",
    "    test_patient_pred = model.predict(test_patient_input)\n",
    "\n",
    "    test_patient_pred_reshaped = np.reshape(test_patient_pred, \n",
    "                                            (test_patch.shape[0], test_patch.shape[1], test_patch.shape[2],\n",
    "                                             test_patch.shape[3], test_patch.shape[4], test_patch.shape[5]))\n",
    "\n",
    "    reconstruct_pred = unpatchify(test_patient_pred_reshaped, test_patient_img.shape)\n",
    "    nrrd.write(pred_volume_file_location, reconstruct_pred, headerInfo)\n",
    "    \n",
    "    return\n"
   ]
  },
  {
   "cell_type": "code",
   "execution_count": null,
   "id": "f5101ff1",
   "metadata": {},
   "outputs": [],
   "source": [
    "for file_path in train_path:\n",
    "    generate_reconstruct_pred(file_path)"
   ]
  },
  {
   "cell_type": "code",
   "execution_count": null,
   "id": "c6c90c2e",
   "metadata": {},
   "outputs": [],
   "source": []
  }
 ],
 "metadata": {
  "kernelspec": {
   "display_name": "Python 3 (ipykernel)",
   "language": "python",
   "name": "python3"
  },
  "language_info": {
   "codemirror_mode": {
    "name": "ipython",
    "version": 3
   },
   "file_extension": ".py",
   "mimetype": "text/x-python",
   "name": "python",
   "nbconvert_exporter": "python",
   "pygments_lexer": "ipython3",
   "version": "3.9.7"
  }
 },
 "nbformat": 4,
 "nbformat_minor": 5
}
