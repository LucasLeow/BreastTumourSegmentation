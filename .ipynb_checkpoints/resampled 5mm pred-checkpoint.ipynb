{
 "cells": [
  {
   "cell_type": "code",
   "execution_count": 11,
   "id": "097c8db5",
   "metadata": {},
   "outputs": [
    {
     "data": {
      "application/vnd.jupyter.widget-view+json": {
       "model_id": "da14c8bbeae54fd6a2d7af4a948f79df",
       "version_major": 2,
       "version_minor": 0
      },
      "text/plain": [
       "interactive(children=(IntSlider(value=47, description='layer', max=95), Dropdown(description='view', options=(…"
      ]
     },
     "metadata": {},
     "output_type": "display_data"
    }
   ],
   "source": [
    "import re\n",
    "import nrrd\n",
    "import os, glob\n",
    "import numpy as np\n",
    "import tensorflow as tf\n",
    "import matplotlib.pyplot as plt\n",
    "from patchify import patchify, unpatchify\n",
    "from ipywidgets import interact, interactive, IntSlider, ToggleButtons\n",
    "\n",
    "import loss\n",
    "import Helper\n",
    "import allMetrics\n",
    "\n",
    "os.environ[\"CUDA_VISIBLE_DEVICES\"]=\"1\"\n",
    "\n",
    "data_dir = '/media/dro/JHSeagate/FYP/jh_fyp_work/ct_scans_data/raw_data/'\n",
    "\n",
    "train_image = os.path.join(data_dir, 'train_data/training_images/')\n",
    "valid_image = os.path.join(data_dir, 'valid_data/valid_images/')\n",
    "test_image = os.path.join(data_dir, 'test_data/testing_images/')\n",
    "\n",
    "train_mask = os.path.join(data_dir, 'train_data/training_masks/')\n",
    "valid_mask = os.path.join(data_dir, 'valid_data/valid_masks/')\n",
    "test_mask = os.path.join(data_dir, 'test_data/testing_masks/')\n",
    "\n",
    "train_image_path = [train_image + file_name for file_name in os.listdir(train_image)]\n",
    "valid_image_path = [valid_image + file_name for file_name in os.listdir(valid_image)]\n",
    "test_image_path = [test_image + file_name for file_name in os.listdir(test_image)]\n",
    "\n",
    "train_mask_path = [train_mask + file_name for file_name in os.listdir(train_mask)]\n",
    "valid_mask_path = [valid_mask + file_name for file_name in os.listdir(valid_mask)]\n",
    "test_mask_path = [test_mask + file_name for file_name in os.listdir(test_mask)]\n",
    "\n",
    "\n",
    "\n",
    "model_checkpoint_path = '/media/dro/JHSeagate/FYP/jh_fyp_work/3D_UNet/Final/SavedModels/resampled_5mm.hdf5'\n",
    "\n",
    "model = tf.keras.models.load_model(model_checkpoint_path, custom_objects = {                                                                \n",
    "                                                                                'dice_coef':allMetrics.dice_coef,\n",
    "                                                                                   'tversky_crossentropy':loss.tversky_crossentropy})\n",
    "input_shape = (64,64,64)\n",
    "num_class = 1\n",
    "desired_step = 32\n",
    "\n",
    "test_patient_img = Helper.process_scan(test_image_path[5])\n",
    "test_patient_msk = Helper.read_nrrd_file(test_mask_path[5])\n",
    "\n",
    "test_patch = patchify(test_patient_img, input_shape, step = desired_step) # Yield 15 x 15 x 3 of size 64 x 64 x 32 cubes\n",
    "test_mask_patch = patchify(test_patient_msk, input_shape, step = desired_step)\n",
    "\n",
    "test_patient_cubes = np.reshape(test_patch, (-1, test_patch.shape[3], test_patch.shape[4], test_patch.shape[5])) # Collapse 15 x 15 x 3 into 675 cubes x 64 x 64 x 32\n",
    "test_patient_mask_cubes = np.reshape(test_mask_patch, (-1, test_mask_patch.shape[3], test_mask_patch.shape[4], test_mask_patch.shape[5])) # 675 x 64 x 64 x 32\n",
    "\n",
    "test_patient_input = np.expand_dims(test_patient_cubes, axis=4)\n",
    "test_patient_mask_input = np.expand_dims(test_patient_mask_cubes, axis=4)\n",
    "\n",
    "test_patient_pred = model.predict(test_patient_input)\n",
    "\n",
    "test_patient_pred_reshaped = np.reshape(test_patient_pred, \n",
    "                                        (test_patch.shape[0], test_patch.shape[1], test_patch.shape[2],\n",
    "                                         test_patch.shape[3], test_patch.shape[4], test_patch.shape[5]))\n",
    "\n",
    "reconstruct_pred = unpatchify(test_patient_pred_reshaped, test_patient_img.shape)\n",
    "reconstruct_pred[reconstruct_pred < 1] = 0\n",
    "\n",
    "@interact\n",
    "def explore_prediction(layer = (0,95), view = [\"axial\"]):\n",
    "    if view == 'axial':\n",
    "        img_array_view = test_patient_img[:, :, layer]\n",
    "        msk_array_view = test_patient_msk[:, :, layer]\n",
    "        pred_array_view = reconstruct_pred[:, :, layer]\n",
    "# , cmap='gray'\n",
    "    plt.figure(figsize=(18, 6))\n",
    "    plt.subplot(1, 3, 1)\n",
    "    plt.imshow(img_array_view, cmap = \"gray\", aspect = \"auto\")\n",
    "    plt.title('Img', fontsize=10)\n",
    "    plt.subplot(1, 3, 2)\n",
    "    plt.imshow(msk_array_view, cmap = \"gray\",aspect = \"auto\")\n",
    "    plt.title('Mask', fontsize=10)\n",
    "    plt.subplot(1, 3, 3)\n",
    "    plt.imshow(pred_array_view, cmap = \"gray\",aspect = \"auto\")\n",
    "    plt.title('Prediction', fontsize=10)\n",
    "    plt.axis('off')\n",
    "    plt.show()\n",
    "    \n",
    "headerInfo = nrrd.read_header(test_image_path[5])\n",
    "\n",
    "modelname = 'P276_resampled_5mm_Model'\n",
    "pred_volume_file_location = f\"/media/dro/JHSeagate/FYP/jh_fyp_work/ct_scans_data/prediction_data/resampled_5mm_Predictions/{modelname}.nrrd\"\n",
    "nrrd.write(pred_volume_file_location, reconstruct_pred, headerInfo)"
   ]
  },
  {
   "cell_type": "code",
   "execution_count": null,
   "id": "dffb79ff",
   "metadata": {},
   "outputs": [],
   "source": []
  },
  {
   "cell_type": "code",
   "execution_count": null,
   "id": "71e09b31",
   "metadata": {},
   "outputs": [],
   "source": []
  },
  {
   "cell_type": "code",
   "execution_count": 2,
   "id": "43b40bb3",
   "metadata": {},
   "outputs": [],
   "source": [
    "def generate_reconstruct_pred(patient_path):\n",
    "    \n",
    "    headerInfo = nrrd.read_header(patient_path)\n",
    "    \n",
    "    patient_idx = int(re.findall(r'\\d+', patient_path[-23:-1])[0])\n",
    "    pred_volume_file_location = f\"/media/dro/JHSeagate/FYP/jh_fyp_work/ct_scans_data/prediction_data/resampled_5mm_Predictions/P{patient_idx}_pred.nrrd\"\n",
    "\n",
    "    \n",
    "    input_shape = (64,64,64)\n",
    "    num_class = 1\n",
    "    desired_step = 32\n",
    "    \n",
    "    test_patient_img = Helper.process_scan(patient_path)\n",
    "    test_patient_msk = Helper.read_nrrd_file(patient_path)\n",
    "\n",
    "    test_patch = patchify(test_patient_img, input_shape, step = desired_step) # Yield 15 x 15 x 3 of size 64 x 64 x 32 cubes\n",
    "    test_mask_patch = patchify(test_patient_msk, input_shape, step = desired_step)\n",
    "\n",
    "    test_patient_cubes = np.reshape(test_patch, (-1, test_patch.shape[3], test_patch.shape[4], test_patch.shape[5])) # Collapse 15 x 15 x 3 into 675 cubes x 64 x 64 x 32\n",
    "    test_patient_mask_cubes = np.reshape(test_mask_patch, (-1, test_mask_patch.shape[3], test_mask_patch.shape[4], test_mask_patch.shape[5])) # 675 x 64 x 64 x 32\n",
    "\n",
    "    test_patient_input = np.expand_dims(test_patient_cubes, axis=4)\n",
    "    test_patient_mask_input = np.expand_dims(test_patient_mask_cubes, axis=4)\n",
    "\n",
    "    test_patient_pred = model.predict(test_patient_input)\n",
    "\n",
    "    test_patient_pred_reshaped = np.reshape(test_patient_pred, \n",
    "                                            (test_patch.shape[0], test_patch.shape[1], test_patch.shape[2],\n",
    "                                             test_patch.shape[3], test_patch.shape[4], test_patch.shape[5]))\n",
    "\n",
    "    reconstruct_pred = unpatchify(test_patient_pred_reshaped, test_patient_img.shape)\n",
    "    nrrd.write(pred_volume_file_location, reconstruct_pred, headerInfo)\n",
    "    \n",
    "    return"
   ]
  },
  {
   "cell_type": "code",
   "execution_count": 3,
   "id": "87261b05",
   "metadata": {},
   "outputs": [
    {
     "ename": "NameError",
     "evalue": "name 'test_path' is not defined",
     "output_type": "error",
     "traceback": [
      "\u001b[0;31m---------------------------------------------------------------------------\u001b[0m",
      "\u001b[0;31mNameError\u001b[0m                                 Traceback (most recent call last)",
      "\u001b[0;32m/tmp/ipykernel_2638656/3054322003.py\u001b[0m in \u001b[0;36m<module>\u001b[0;34m\u001b[0m\n\u001b[0;32m----> 1\u001b[0;31m \u001b[0;32mfor\u001b[0m \u001b[0mfile_path\u001b[0m \u001b[0;32min\u001b[0m \u001b[0mtest_path\u001b[0m\u001b[0;34m:\u001b[0m\u001b[0;34m\u001b[0m\u001b[0;34m\u001b[0m\u001b[0m\n\u001b[0m\u001b[1;32m      2\u001b[0m     \u001b[0mgenerate_reconstruct_pred\u001b[0m\u001b[0;34m(\u001b[0m\u001b[0mfile_path\u001b[0m\u001b[0;34m)\u001b[0m\u001b[0;34m\u001b[0m\u001b[0;34m\u001b[0m\u001b[0m\n",
      "\u001b[0;31mNameError\u001b[0m: name 'test_path' is not defined"
     ]
    }
   ],
   "source": [
    "for file_path in test_path:\n",
    "    generate_reconstruct_pred(file_path)"
   ]
  },
  {
   "cell_type": "code",
   "execution_count": null,
   "id": "9f24ca74",
   "metadata": {},
   "outputs": [],
   "source": []
  }
 ],
 "metadata": {
  "kernelspec": {
   "display_name": "Python 3 (ipykernel)",
   "language": "python",
   "name": "python3"
  },
  "language_info": {
   "codemirror_mode": {
    "name": "ipython",
    "version": 3
   },
   "file_extension": ".py",
   "mimetype": "text/x-python",
   "name": "python",
   "nbconvert_exporter": "python",
   "pygments_lexer": "ipython3",
   "version": "3.8.11"
  }
 },
 "nbformat": 4,
 "nbformat_minor": 5
}
