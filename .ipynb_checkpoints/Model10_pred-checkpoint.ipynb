{
 "cells": [
  {
   "cell_type": "code",
   "execution_count": null,
   "id": "b4990a25",
   "metadata": {},
   "outputs": [],
   "source": [
    "import re\n",
    "import nrrd\n",
    "import os, glob\n",
    "import numpy as np\n",
    "import tensorflow as tf\n",
    "import matplotlib.pyplot as plt\n",
    "from patchify import patchify, unpatchify\n",
    "from ipywidgets import interact, interactive, IntSlider, ToggleButtons\n",
    "\n",
    "import loss\n",
    "import Helper\n",
    "import allMetrics"
   ]
  },
  {
   "cell_type": "code",
   "execution_count": null,
   "id": "83c8fe15",
   "metadata": {},
   "outputs": [],
   "source": [
    "os.environ[\"CUDA_VISIBLE_DEVICES\"]=\"2\""
   ]
  },
  {
   "cell_type": "code",
   "execution_count": null,
   "id": "8a2a59f6",
   "metadata": {},
   "outputs": [],
   "source": [
    "access_token = '5307815831:AAEKVzHQFAVWMwXseU9L1yKKtsBq4YPZM8Y'\n",
    "chat_id = '503932462'\n",
    "\n",
    "# data_dir = '/home/tester/jianhoong/jh_fyp_work/ct_scans_data/raw_data/' # ntu\n",
    "data_dir = '/media/dro/JHSeagate/FYP/jh_fyp_work/ct_scans_data/raw_data/' # dgx\n",
    "# data_dir = 'E:/FYP/jh_fyp_work/ct_scans_data/raw_data/'  # Home pc\n",
    "\n",
    "z_train = os.path.join(data_dir, 'training_data_z')\n",
    "z_train_image = os.path.join(z_train, 'training_images/training_images')\n",
    "z_train_mask = os.path.join(z_train, 'training_masks/training_masks')\n",
    "\n",
    "z_valid = os.path.join(data_dir, 'valid_data_z')\n",
    "z_valid_image = os.path.join(z_valid, 'valid_images/valid_images')\n",
    "z_valid_mask = os.path.join(z_valid, 'valid_masks/valid_masks')\n",
    "\n",
    "z_test = os.path.join(data_dir, 'testing_data_z')\n",
    "z_test_image = os.path.join(z_test, 'testing_images/testing_images')\n",
    "z_test_mask = os.path.join(z_test, 'testing_masks/testing_masks')"
   ]
  },
  {
   "cell_type": "code",
   "execution_count": null,
   "id": "27faa2ca",
   "metadata": {},
   "outputs": [],
   "source": [
    "def sorted_alnum(l):\n",
    "    def convert(text): return int(text) if text.isdigit() else text\n",
    "    def alphanum_key(key): return [convert(c)\n",
    "                                   for c in re.split('([0-9]+)', key)]\n",
    "    return sorted(l, key=alphanum_key)"
   ]
  },
  {
   "cell_type": "code",
   "execution_count": null,
   "id": "6d8f9d26",
   "metadata": {},
   "outputs": [],
   "source": [
    "train_data_with_96 = [15, 16, 20, 21, 23, 33, 37, 52, 64, 69, 72, 76, 77, 83, 92, 94, 95,\n",
    "                      97, 103, 116, 123, 129, 157, 159, 162, 163, 170, 171, 180, 191, 192, 198, 200, 207, 209]\n",
    "valid_data_with_96 = [213, 219, 221, 227, 231,\n",
    "                      238, 240, 243, 249, 250, 255, 256, 257, 270]\n",
    "test_data_with_96 = [271, 272, 274, 277, 283,\n",
    "                     286, 287, 293, 296, 300, 303, 305, 306, 314]\n",
    "\n",
    "train_path = sorted_alnum([os.path.join(z_train_image, file) for file in os.listdir(\n",
    "    z_train_image) if int(re.findall(r'\\d+', file)[0]) in train_data_with_96])\n",
    "train_mask_path = sorted_alnum([os.path.join(z_train_mask, file) for file in os.listdir(\n",
    "    z_train_mask) if int(re.findall(r'\\d+', file)[0]) in train_data_with_96])\n",
    "\n",
    "valid_path = sorted_alnum([os.path.join(z_valid_image, file) for file in os.listdir(\n",
    "    z_valid_image) if int(re.findall(r'\\d+', file)[0]) in valid_data_with_96])\n",
    "valid_mask_path = sorted_alnum([os.path.join(z_valid_mask, file) for file in os.listdir(\n",
    "    z_valid_mask) if int(re.findall(r'\\d+', file)[0]) in valid_data_with_96])\n",
    "\n",
    "test_path = sorted_alnum([os.path.join(z_test_image, file) for file in os.listdir(\n",
    "    z_test_image) if int(re.findall(r'\\d+', file)[0]) in test_data_with_96])\n",
    "test_mask_path = sorted_alnum([os.path.join(z_test_mask, file) for file in os.listdir(\n",
    "    z_test_mask) if int(re.findall(r'\\d+', file)[0]) in test_data_with_96])"
   ]
  },
  {
   "cell_type": "code",
   "execution_count": null,
   "id": "f03deb33",
   "metadata": {},
   "outputs": [],
   "source": [
    "# model_checkpoint_path = 'E:/FYP/jh_fyp_work/3D_UNet/Final/SavedModels/Model10.hdf5'\n",
    "model_checkpoint_path = '/media/dro/JHSeagate/FYP/jh_fyp_work/3D_UNet/Final/SavedModels/Model10.hdf5'\n",
    "\n",
    "model = tf.keras.models.load_model(model_checkpoint_path, custom_objects = {                                                                \n",
    "                                                                                'dice_coef':allMetrics.dice_coef,\n",
    "                                                                                   'tversky_crossentropy':loss.tversky_crossentropy})"
   ]
  },
  {
   "cell_type": "code",
   "execution_count": null,
   "id": "c583b500",
   "metadata": {
    "scrolled": true
   },
   "outputs": [],
   "source": [
    "input_shape = (64,64,96)\n",
    "num_class = 1\n",
    "desired_step = 32\n",
    "\n",
    "test_patient_img = Helper.process_scan(test_path[9])\n",
    "test_patient_msk = Helper.read_nrrd_file(test_mask_path[9])\n",
    "\n",
    "test_patch = patchify(test_patient_img, input_shape, step = desired_step) # Yield 15 x 15 x 3 of size 64 x 64 x 32 cubes\n",
    "test_mask_patch = patchify(test_patient_msk, input_shape, step = desired_step)\n",
    "\n",
    "test_patient_cubes = np.reshape(test_patch, (-1, test_patch.shape[3], test_patch.shape[4], test_patch.shape[5])) # Collapse 15 x 15 x 3 into 675 cubes x 64 x 64 x 32\n",
    "test_patient_mask_cubes = np.reshape(test_mask_patch, (-1, test_mask_patch.shape[3], test_mask_patch.shape[4], test_mask_patch.shape[5])) # 675 x 64 x 64 x 32\n",
    "\n",
    "test_patient_input = np.expand_dims(test_patient_cubes, axis=4)\n",
    "test_patient_mask_input = np.expand_dims(test_patient_mask_cubes, axis=4)\n",
    "\n",
    "test_patient_pred = model.predict(test_patient_input)\n",
    "\n",
    "test_patient_pred_reshaped = np.reshape(test_patient_pred, \n",
    "                                        (test_patch.shape[0], test_patch.shape[1], test_patch.shape[2],\n",
    "                                         test_patch.shape[3], test_patch.shape[4], test_patch.shape[5]))\n",
    "\n",
    "reconstruct_pred = unpatchify(test_patient_pred_reshaped, test_patient_img.shape)\n",
    "reconstruct_pred[reconstruct_pred < 1] = 0\n",
    "# reconstruct_pred[reconstruct_pred > 50] = 255\n",
    "\n",
    "\n",
    "\n",
    "@interact\n",
    "def explore_prediction(layer = (0,96), view = [\"axial\"]):\n",
    "    if view == 'axial':\n",
    "        img_array_view = test_patient_img[:, :, layer]\n",
    "        msk_array_view = test_patient_msk[:, :, layer]\n",
    "        pred_array_view = reconstruct_pred[:, :, layer]\n",
    "# , cmap='gray'\n",
    "    plt.figure(figsize=(18, 6))\n",
    "    plt.subplot(1, 3, 1)\n",
    "    plt.imshow(img_array_view, cmap = \"gray\", aspect = \"auto\")\n",
    "    plt.title('Img', fontsize=10)\n",
    "    plt.subplot(1, 3, 2)\n",
    "    plt.imshow(msk_array_view, cmap = \"gray\",aspect = \"auto\")\n",
    "    plt.title('Mask', fontsize=10)\n",
    "    plt.subplot(1, 3, 3)\n",
    "    plt.imshow(pred_array_view, cmap = \"gray\",aspect = \"auto\")\n",
    "    plt.title('Prediction', fontsize=10)\n",
    "    plt.axis('off')\n",
    "    plt.show()"
   ]
  },
  {
   "cell_type": "code",
   "execution_count": null,
   "id": "1c8f6828",
   "metadata": {},
   "outputs": [],
   "source": [
    "# @interact\n",
    "# def explore_prediction(layer = (0,96), view = [\"axial\"]):\n",
    "#     if view == 'axial':\n",
    "#         img_array_view = test_patient_img[:, :, layer]\n",
    "#         msk_array_view = test_patient_msk[:, :, layer]\n",
    "#         pred_array_view = reconstruct_pred[:, :, layer]\n",
    "# # , cmap='gray'\n",
    "#     plt.figure(figsize=(18, 6))\n",
    "#     plt.subplot(1, 3, 1)\n",
    "#     plt.imshow(img_array_view, cmap = \"gray\", aspect = \"auto\")\n",
    "#     plt.title('Img', fontsize=10)\n",
    "#     plt.subplot(1, 3, 2)\n",
    "#     plt.imshow(msk_array_view, cmap = \"gray\",aspect = \"auto\")\n",
    "#     plt.title('Mask', fontsize=10)\n",
    "#     plt.subplot(1, 3, 3)\n",
    "#     plt.imshow(pred_array_view, cmap = \"gray\",aspect = \"auto\")\n",
    "#     plt.title('Prediction', fontsize=10)\n",
    "#     plt.axis('off')\n",
    "#     plt.show()"
   ]
  },
  {
   "cell_type": "code",
   "execution_count": null,
   "id": "bd00b4e7",
   "metadata": {},
   "outputs": [],
   "source": [
    "@interact\n",
    "def explore_prediction(layer = (0,511), view = [\"coronal\"]):\n",
    "    if view == 'coronal':\n",
    "        img_array_view = test_patient_img[:, layer, :]\n",
    "        msk_array_view = test_patient_msk[:, layer, :]\n",
    "        pred_array_view = reconstruct_pred[:, layer, :]\n",
    "# , cmap='gray'\n",
    "    plt.figure(figsize=(18, 6))\n",
    "    plt.subplot(1, 3, 1)\n",
    "    plt.imshow(img_array_view, cmap = \"gray\", aspect = \"auto\")\n",
    "    plt.title('Img', fontsize=10)\n",
    "    plt.subplot(1, 3, 2)\n",
    "    plt.imshow(msk_array_view, cmap = \"gray\",aspect = \"auto\")\n",
    "    plt.title('Mask', fontsize=10)\n",
    "    plt.subplot(1, 3, 3)\n",
    "    plt.imshow(pred_array_view, cmap = \"gray\",aspect = \"auto\")\n",
    "    plt.title('Prediction', fontsize=10)\n",
    "    plt.axis('off')\n",
    "    plt.show()\n",
    "    \n",
    "@interact\n",
    "def explore_prediction(layer = (0,511), view = [\"sagittal\"]):\n",
    "    if view == 'sagittal':\n",
    "        img_array_view = test_patient_img[layer, :, :]\n",
    "        msk_array_view = test_patient_msk[layer, :, :]\n",
    "        pred_array_view = reconstruct_pred[layer, : , :]\n",
    "# , cmap='gray'\n",
    "    plt.figure(figsize=(18, 6))\n",
    "    plt.subplot(1, 3, 1)\n",
    "    plt.imshow(img_array_view, cmap = \"gray\", aspect = \"auto\")\n",
    "    plt.title('Img', fontsize=10)\n",
    "    plt.subplot(1, 3, 2)\n",
    "    plt.imshow(msk_array_view, cmap = \"gray\",aspect = \"auto\")\n",
    "    plt.title('Mask', fontsize=10)\n",
    "    plt.subplot(1, 3, 3)\n",
    "    plt.imshow(pred_array_view, cmap = \"gray\",aspect = \"auto\")\n",
    "    plt.title('Prediction', fontsize=10)\n",
    "    plt.axis('off')\n",
    "    plt.show()"
   ]
  },
  {
   "cell_type": "code",
   "execution_count": null,
   "id": "2397c72a",
   "metadata": {},
   "outputs": [],
   "source": [
    "reconstruct_pred[:,391,:]"
   ]
  },
  {
   "cell_type": "code",
   "execution_count": null,
   "id": "184d7617",
   "metadata": {},
   "outputs": [],
   "source": [
    "test_patient_msk[:,391,:]"
   ]
  },
  {
   "cell_type": "code",
   "execution_count": null,
   "id": "836ad70c",
   "metadata": {},
   "outputs": [],
   "source": [
    "import pandas as pd"
   ]
  },
  {
   "cell_type": "code",
   "execution_count": null,
   "id": "bf5c5fcb",
   "metadata": {},
   "outputs": [],
   "source": [
    "pd.DataFrame(test_patient_msk[:,190,:])"
   ]
  },
  {
   "cell_type": "code",
   "execution_count": null,
   "id": "a8da6fa4",
   "metadata": {
    "scrolled": true
   },
   "outputs": [],
   "source": [
    "pd.DataFrame(reconstruct_pred[:,391,:])"
   ]
  },
  {
   "cell_type": "code",
   "execution_count": null,
   "id": "0128514f",
   "metadata": {},
   "outputs": [],
   "source": [
    "pd.set_option('display.max_columns', None)"
   ]
  },
  {
   "cell_type": "code",
   "execution_count": null,
   "id": "59358534",
   "metadata": {},
   "outputs": [],
   "source": []
  },
  {
   "cell_type": "code",
   "execution_count": null,
   "id": "3afb32cf",
   "metadata": {},
   "outputs": [],
   "source": [
    "headerInfo = nrrd.read_header(test_path[9])"
   ]
  },
  {
   "cell_type": "code",
   "execution_count": null,
   "id": "ba7537be",
   "metadata": {},
   "outputs": [],
   "source": [
    "pred_volume_file_location = f\"/media/dro/JHSeagate/FYP/jh_fyp_work/ct_scans_data/prediction_data/Model10_test9.nrrd\"\n"
   ]
  },
  {
   "cell_type": "code",
   "execution_count": null,
   "id": "57d37ff4",
   "metadata": {},
   "outputs": [],
   "source": [
    "nrrd.write(pred_volume_file_location, reconstruct_pred, headerInfo)"
   ]
  },
  {
   "cell_type": "code",
   "execution_count": null,
   "id": "f0bc7a7b",
   "metadata": {},
   "outputs": [],
   "source": []
  },
  {
   "cell_type": "code",
   "execution_count": null,
   "id": "e8e0890f",
   "metadata": {},
   "outputs": [],
   "source": []
  },
  {
   "cell_type": "code",
   "execution_count": null,
   "id": "22a9167f",
   "metadata": {},
   "outputs": [],
   "source": [
    "def generate_reconstruct_pred(patient_path):\n",
    "    \n",
    "    headerInfo = nrrd.read_header(patient_path)\n",
    "    \n",
    "    patient_idx = int(re.findall(r'\\d+', patient_path[-14:-11])[0])\n",
    "    pred_volume_file_location = f\"/media/dro/JHSeagate/FYP/jh_fyp_work/ct_scans_data/prediction_data/Model_10(DGX)_Predictions/P{patient_idx}_pred_Model10.nrrd\"\n",
    "\n",
    "    \n",
    "    input_shape = (64,64,96)\n",
    "    num_class = 1\n",
    "    desired_step = 32\n",
    "    \n",
    "    test_patient_img = Helper.process_scan(patient_path)\n",
    "    test_patient_msk = Helper.read_nrrd_file(patient_path)\n",
    "\n",
    "    test_patch = patchify(test_patient_img, input_shape, step = desired_step) # Yield 15 x 15 x 3 of size 64 x 64 x 32 cubes\n",
    "    test_mask_patch = patchify(test_patient_msk, input_shape, step = desired_step)\n",
    "\n",
    "    test_patient_cubes = np.reshape(test_patch, (-1, test_patch.shape[3], test_patch.shape[4], test_patch.shape[5])) # Collapse 15 x 15 x 3 into 675 cubes x 64 x 64 x 32\n",
    "    test_patient_mask_cubes = np.reshape(test_mask_patch, (-1, test_mask_patch.shape[3], test_mask_patch.shape[4], test_mask_patch.shape[5])) # 675 x 64 x 64 x 32\n",
    "\n",
    "    test_patient_input = np.expand_dims(test_patient_cubes, axis=4)\n",
    "    test_patient_mask_input = np.expand_dims(test_patient_mask_cubes, axis=4)\n",
    "\n",
    "    test_patient_pred = model.predict(test_patient_input)\n",
    "\n",
    "    test_patient_pred_reshaped = np.reshape(test_patient_pred, \n",
    "                                            (test_patch.shape[0], test_patch.shape[1], test_patch.shape[2],\n",
    "                                             test_patch.shape[3], test_patch.shape[4], test_patch.shape[5]))\n",
    "\n",
    "    reconstruct_pred = unpatchify(test_patient_pred_reshaped, test_patient_img.shape)\n",
    "    nrrd.write(pred_volume_file_location, reconstruct_pred, headerInfo)\n",
    "    \n",
    "    return"
   ]
  },
  {
   "cell_type": "code",
   "execution_count": null,
   "id": "3c8a6fdf",
   "metadata": {},
   "outputs": [],
   "source": [
    "for file_path in test_path:\n",
    "    generate_reconstruct_pred(file_path)"
   ]
  },
  {
   "cell_type": "code",
   "execution_count": null,
   "id": "6925ad45",
   "metadata": {},
   "outputs": [],
   "source": []
  }
 ],
 "metadata": {
  "kernelspec": {
   "display_name": "Python 3 (ipykernel)",
   "language": "python",
   "name": "python3"
  },
  "language_info": {
   "codemirror_mode": {
    "name": "ipython",
    "version": 3
   },
   "file_extension": ".py",
   "mimetype": "text/x-python",
   "name": "python",
   "nbconvert_exporter": "python",
   "pygments_lexer": "ipython3",
   "version": "3.8.11"
  }
 },
 "nbformat": 4,
 "nbformat_minor": 5
}
